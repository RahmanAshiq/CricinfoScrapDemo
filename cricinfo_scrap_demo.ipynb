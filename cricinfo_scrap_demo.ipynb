{
 "cells": [
  {
   "cell_type": "code",
   "execution_count": 1,
   "metadata": {},
   "outputs": [],
   "source": [
    "import requests\n",
    "from bs4 import BeautifulSoup\n",
    "import time, os, csv"
   ]
  },
  {
   "cell_type": "code",
   "execution_count": 2,
   "metadata": {},
   "outputs": [],
   "source": [
    "base_url = \"https://www.espncricinfo.com/player/team/australia-2\"\n",
    "page = None\n",
    "soup = None"
   ]
  },
  {
   "cell_type": "code",
   "execution_count": 3,
   "metadata": {},
   "outputs": [],
   "source": [
    "page = requests.get(base_url)"
   ]
  },
  {
   "cell_type": "code",
   "execution_count": null,
   "metadata": {},
   "outputs": [],
   "source": []
  },
  {
   "cell_type": "code",
   "execution_count": null,
   "metadata": {},
   "outputs": [],
   "source": [
    "page.content"
   ]
  },
  {
   "cell_type": "code",
   "execution_count": 5,
   "metadata": {},
   "outputs": [],
   "source": [
    "soup = BeautifulSoup(page.content, \"html.parser\")"
   ]
  },
  {
   "cell_type": "code",
   "execution_count": null,
   "metadata": {},
   "outputs": [],
   "source": [
    "soup"
   ]
  },
  {
   "cell_type": "code",
   "execution_count": null,
   "metadata": {},
   "outputs": [],
   "source": [
    "print(soup.prettify())"
   ]
  },
  {
   "cell_type": "code",
   "execution_count": 28,
   "metadata": {},
   "outputs": [],
   "source": [
    "elems = soup.find_all(True, {\"class\": [\"ids-flex\", \"ds-p-4\", \"ds-flex-row\", \"ds-space-x-4\", \"ds-border-line\", \"ds-border-b\", \"odd:ds-border-r\", \"last:ds-border-none\"]})"
   ]
  },
  {
   "cell_type": "code",
   "execution_count": 32,
   "metadata": {},
   "outputs": [],
   "source": [
    "elems = soup.find_all(True, {\"class\": \"ds-flex ds-p-4 ds-flex-row ds-space-x-4 ds-border-line ds-border-b odd:ds-border-r last:ds-border-none\"})"
   ]
  },
  {
   "cell_type": "code",
   "execution_count": 27,
   "metadata": {},
   "outputs": [
    {
     "data": {
      "text/plain": [
       "<div class=\"ds-flex ds-p-4 ds-flex-row ds-space-x-4 ds-border-line ds-border-b odd:ds-border-r last:ds-border-none\"><a class=\"ds-flex\" href=\"/cricketers/sean-abbott-398666\"><div class=\"ds-border ds-border-ui-stroke ds-text-typo ds-bg-ui-fill ds-rounded-full ds-overflow-hidden ds-flex ds-items-center ds-justify-center ds-w-20 ds-h-20\"><img alt=\"Sean Abbott portrait\" class=\"ds-block\" height=\"80\" src=\"https://wassets.hscicdn.com/static/images/lazyimage-noaspect.svg\" style=\"width:80px;height:80px\" width=\"80\"/></div></a><div class=\"ds-flex ds-flex-col\"><a class=\"ds-inline-flex ds-items-start ds-leading-none\" href=\"/cricketers/sean-abbott-398666\"><span class=\"ds-text-compact-l ds-font-medium ds-text-typo hover:ds-text-typo-primary ds-block\">Abbott, SA</span></a><span class=\"ds-text-tight-l\">Sean Abbott</span><span class=\"ds-text-tight-m ds-font-regular ds-text-typo-mid3\">Age: 31y 100d</span></div></div>"
      ]
     },
     "execution_count": 27,
     "metadata": {},
     "output_type": "execute_result"
    }
   ],
   "source": [
    "e = soup.find(\"div\", {\"class\": \"ds-flex ds-p-4 ds-flex-row ds-space-x-4 ds-border-line ds-border-b odd:ds-border-r last:ds-border-none\"})\n",
    "e"
   ]
  },
  {
   "cell_type": "code",
   "execution_count": 35,
   "metadata": {},
   "outputs": [
    {
     "data": {
      "text/plain": [
       "<div class=\"ds-flex ds-p-4 ds-flex-row ds-space-x-4 ds-border-line ds-border-b odd:ds-border-r last:ds-border-none\"><a class=\"ds-flex\" href=\"/cricketers/daniel-sams-826901\"><div class=\"ds-border ds-border-ui-stroke ds-text-typo ds-bg-ui-fill ds-rounded-full ds-overflow-hidden ds-flex ds-items-center ds-justify-center ds-w-20 ds-h-20\"><img alt=\"Daniel Sams portrait\" class=\"ds-block\" height=\"80\" src=\"https://wassets.hscicdn.com/static/images/lazyimage-noaspect.svg\" style=\"width:80px;height:80px\" width=\"80\"/></div></a><div class=\"ds-flex ds-flex-col\"><a class=\"ds-inline-flex ds-items-start ds-leading-none\" href=\"/cricketers/daniel-sams-826901\"><span class=\"ds-text-compact-l ds-font-medium ds-text-typo hover:ds-text-typo-primary ds-block\">Sams, DR</span></a><span class=\"ds-text-tight-l\">Daniel Sams</span><span class=\"ds-text-tight-m ds-font-regular ds-text-typo-mid3\">Age: 30y 224d</span></div></div>"
      ]
     },
     "execution_count": 35,
     "metadata": {},
     "output_type": "execute_result"
    }
   ],
   "source": [
    "elems[39]"
   ]
  },
  {
   "cell_type": "code",
   "execution_count": 36,
   "metadata": {},
   "outputs": [
    {
     "data": {
      "text/plain": [
       "<div class=\"ds-flex ds-p-4 ds-flex-row ds-space-x-4 ds-border-line ds-border-b odd:ds-border-r last:ds-border-none\"><a class=\"ds-flex\" href=\"/cricketers/sean-abbott-398666\"><div class=\"ds-border ds-border-ui-stroke ds-text-typo ds-bg-ui-fill ds-rounded-full ds-overflow-hidden ds-flex ds-items-center ds-justify-center ds-w-20 ds-h-20\"><img alt=\"Sean Abbott portrait\" class=\"ds-block\" height=\"80\" src=\"https://wassets.hscicdn.com/static/images/lazyimage-noaspect.svg\" style=\"width:80px;height:80px\" width=\"80\"/></div></a><div class=\"ds-flex ds-flex-col\"><a class=\"ds-inline-flex ds-items-start ds-leading-none\" href=\"/cricketers/sean-abbott-398666\"><span class=\"ds-text-compact-l ds-font-medium ds-text-typo hover:ds-text-typo-primary ds-block\">Abbott, SA</span></a><span class=\"ds-text-tight-l\">Sean Abbott</span><span class=\"ds-text-tight-m ds-font-regular ds-text-typo-mid3\">Age: 31y 100d</span></div></div>"
      ]
     },
     "execution_count": 36,
     "metadata": {},
     "output_type": "execute_result"
    }
   ],
   "source": [
    "elem = elems[0]\n",
    "elem"
   ]
  },
  {
   "cell_type": "code",
   "execution_count": 43,
   "metadata": {},
   "outputs": [
    {
     "data": {
      "text/plain": [
       "<span class=\"ds-text-tight-m ds-font-regular ds-text-typo-mid3\">Age: 31y 100d</span>"
      ]
     },
     "execution_count": 43,
     "metadata": {},
     "output_type": "execute_result"
    }
   ],
   "source": [
    "h3 = elem.find(\"span\", {\"class\" : \"ds-text-tight-m\"})\n",
    "h3"
   ]
  },
  {
   "cell_type": "code",
   "execution_count": 44,
   "metadata": {},
   "outputs": [
    {
     "data": {
      "text/plain": [
       "'Age: 31y 100d'"
      ]
     },
     "execution_count": 44,
     "metadata": {},
     "output_type": "execute_result"
    }
   ],
   "source": [
    "h3.text"
   ]
  },
  {
   "cell_type": "code",
   "execution_count": 39,
   "metadata": {},
   "outputs": [
    {
     "data": {
      "text/plain": [
       "<a class=\"ds-flex\" href=\"/cricketers/sean-abbott-398666\"><div class=\"ds-border ds-border-ui-stroke ds-text-typo ds-bg-ui-fill ds-rounded-full ds-overflow-hidden ds-flex ds-items-center ds-justify-center ds-w-20 ds-h-20\"><img alt=\"Sean Abbott portrait\" class=\"ds-block\" height=\"80\" src=\"https://wassets.hscicdn.com/static/images/lazyimage-noaspect.svg\" style=\"width:80px;height:80px\" width=\"80\"/></div></a>"
      ]
     },
     "execution_count": 39,
     "metadata": {},
     "output_type": "execute_result"
    }
   ],
   "source": [
    "atag = elem.find(\"a\", href=True)\n",
    "atag"
   ]
  },
  {
   "cell_type": "code",
   "execution_count": 40,
   "metadata": {},
   "outputs": [
    {
     "data": {
      "text/plain": [
       "'/cricketers/sean-abbott-398666'"
      ]
     },
     "execution_count": 40,
     "metadata": {},
     "output_type": "execute_result"
    }
   ],
   "source": [
    "atag['href']"
   ]
  },
  {
   "cell_type": "code",
   "execution_count": 25,
   "metadata": {},
   "outputs": [
    {
     "data": {
      "text/plain": [
       "'Abu Jayed'"
      ]
     },
     "execution_count": 25,
     "metadata": {},
     "output_type": "execute_result"
    }
   ],
   "source": [
    "elem.find(\"p\", {\"class\" : \"player-index-role\"}).text"
   ]
  },
  {
   "cell_type": "code",
   "execution_count": 26,
   "metadata": {},
   "outputs": [
    {
     "data": {
      "text/plain": [
       "'Age: 28y 177d'"
      ]
     },
     "execution_count": 26,
     "metadata": {},
     "output_type": "execute_result"
    }
   ],
   "source": [
    "elem.find(\"p\", {\"class\" : \"player-index-age\"}).text"
   ]
  },
  {
   "cell_type": "code",
   "execution_count": 46,
   "metadata": {},
   "outputs": [],
   "source": [
    "players = []\n",
    "for elem in elems:\n",
    "    ht = elem.find(\"span\", {\"class\" : \"ds-text-tight-l\"})\n",
    "    name = None\n",
    "    if ht is not None:\n",
    "        name = ht.text\n",
    "    at = elem.find(\"a\", href=True)\n",
    "    url = None\n",
    "    if at is not None:\n",
    "        url = at[\"href\"]\n",
    "    pAge = elem.find(\"span\", {\"class\" : \"ds-text-tight-m\"})\n",
    "    age = ''\n",
    "    if pAge is not None:\n",
    "        age = pAge.text.replace(\"Age: \",\"\")\n",
    "    if name is None or url is None:\n",
    "        continue\n",
    "    players.append([name, age, url])"
   ]
  },
  {
   "cell_type": "code",
   "execution_count": 47,
   "metadata": {},
   "outputs": [
    {
     "data": {
      "text/plain": [
       "[['Sean Abbott', '31y 100d', '/cricketers/sean-abbott-398666'],\n",
       " ['Ashton Agar', '29y 237d', '/cricketers/ashton-agar-505120'],\n",
       " ['Scott Boland', '34y 58d', '/cricketers/scott-boland-446548'],\n",
       " ['Darcie Brown', '20y 93d', '/cricketers/darcie-brown-388845'],\n",
       " ['Alex Carey', '31y 285d', '/cricketers/alex-carey-326434'],\n",
       " ['Nicola Carey', '29y 271d', '/cricketers/nicola-carey-381217'],\n",
       " ['Pat Cummins', '30y 31d', '/cricketers/pat-cummins-489889'],\n",
       " ['Tim David', '27y 84d', '/cricketers/tim-david-892749'],\n",
       " ['Nathan Ellis', '28y 259d', '/cricketers/nathan-ellis-826915'],\n",
       " ['Aaron Finch', '36y 203d', '/cricketers/aaron-finch-5334'],\n",
       " ['Ashleigh Gardner', '26y 54d', '/cricketers/ashleigh-gardner-858809'],\n",
       " ['Kim Garth', '27y 44d', '/cricketers/kim-garth-418423'],\n",
       " ['Heather Graham', '26y 246d', '/cricketers/heather-graham-546629'],\n",
       " ['Cameron Green', '24y 5d', '/cricketers/cameron-green-1076713'],\n",
       " ['Peter Handscomb', '32y 43d', '/cricketers/peter-handscomb-334337'],\n",
       " ['Grace Harris', '29y 263d', '/cricketers/grace-harris-381268'],\n",
       " ['Rachael Haynes', '36y 164d', '/cricketers/rachael-haynes-268889'],\n",
       " ['Josh Hazlewood', '32y 151d', '/cricketers/josh-hazlewood-288284'],\n",
       " ['Travis Head', '29y 161d', '/cricketers/travis-head-530011'],\n",
       " ['Alyssa Healy', '33y 76d', '/cricketers/alyssa-healy-275486'],\n",
       " ['Josh Inglis', '28y 96d', '/cricketers/josh-inglis-662235'],\n",
       " ['Jess Jonassen', '30y 215d', '/cricketers/jess-jonassen-374936'],\n",
       " ['Usman Khawaja', '36y 172d', '/cricketers/usman-khawaja-215155'],\n",
       " ['Alana King', '27y 198d', '/cricketers/alana-king-944393'],\n",
       " ['Matthew Kuhnemann', '26y 261d', '/cricketers/matthew-kuhnemann-774219'],\n",
       " ['Marnus Labuschagne', '28y 351d', '/cricketers/marnus-labuschagne-787987'],\n",
       " ['Meg Lanning', '31y 75d', '/cricketers/meg-lanning-329336'],\n",
       " ['Phoebe Litchfield', '20y 51d', '/cricketers/phoebe-litchfield-1176132'],\n",
       " ['Nathan Lyon', '35y 200d', '/cricketers/nathan-lyon-272279'],\n",
       " ['Mitchell Marsh', '31y 231d', '/cricketers/mitchell-marsh-272450'],\n",
       " ['Glenn Maxwell', '34y 237d', '/cricketers/glenn-maxwell-325026'],\n",
       " ['Tahlia McGrath', '27y 210d', '/cricketers/tahlia-mcgrath-381311'],\n",
       " ['Beth Mooney', '29y 145d', '/cricketers/beth-mooney-381258'],\n",
       " ['Todd Murphy', '22y 205d', '/cricketers/todd-murphy-1193685'],\n",
       " ['Michael Neser', '33y 71d', '/cricketers/michael-neser-376169'],\n",
       " ['Ellyse Perry', '32y 217d', '/cricketers/ellyse-perry-275487'],\n",
       " ['Matt Renshaw', '27y 72d', '/cricketers/matt-renshaw-722303'],\n",
       " ['Jhye Richardson', '26y 261d', '/cricketers/jhye-richardson-774223'],\n",
       " ['Kane Richardson', '32y 116d', '/cricketers/kane-richardson-272262'],\n",
       " ['Daniel Sams', '30y 224d', '/cricketers/daniel-sams-826901']]"
      ]
     },
     "execution_count": 47,
     "metadata": {},
     "output_type": "execute_result"
    }
   ],
   "source": [
    "players"
   ]
  },
  {
   "cell_type": "code",
   "execution_count": 48,
   "metadata": {},
   "outputs": [],
   "source": [
    "def createCSV():\n",
    "    mainFileName = \"cricketers.csv\"\n",
    "    if(os.path.exists(mainFileName) == True):\n",
    "        return\n",
    "    \n",
    "    headList = [\"name\", \"age\", \"url\"]\n",
    "\n",
    "    with open(mainFileName, \"w\", newline=\"\") as Output_csv:\n",
    "        CSVWriter = csv.writer(Output_csv)\n",
    "        CSVWriter.writerow(headList)"
   ]
  },
  {
   "cell_type": "code",
   "execution_count": 49,
   "metadata": {},
   "outputs": [],
   "source": [
    "createCSV()"
   ]
  },
  {
   "cell_type": "code",
   "execution_count": 50,
   "metadata": {},
   "outputs": [],
   "source": [
    "def writeSinglePlayerData(data):\n",
    "    mainFileName = \"cricketers.csv\"\n",
    "    with open(mainFileName,\"a\",newline=\"\") as Output_csv:\n",
    "        CSVWriter = csv.writer(Output_csv)\n",
    "        CSVWriter.writerow(data)"
   ]
  },
  {
   "cell_type": "code",
   "execution_count": 51,
   "metadata": {},
   "outputs": [],
   "source": [
    "for player in players:\n",
    "    writeSinglePlayerData(player)"
   ]
  },
  {
   "cell_type": "code",
   "execution_count": 42,
   "metadata": {},
   "outputs": [],
   "source": [
    "def waitUntill(someTimeInSec):\n",
    "    time.sleep(someTimeInSec)"
   ]
  },
  {
   "cell_type": "code",
   "execution_count": 44,
   "metadata": {},
   "outputs": [
    {
     "name": "stdout",
     "output_type": "stream",
     "text": [
      "dfdsf\n",
      "aaaaaaa\n"
     ]
    }
   ],
   "source": [
    "print(\"dfdsf\")\n",
    "waitUntill(5)\n",
    "print(\"aaaaaaa\")"
   ]
  }
 ],
 "metadata": {
  "kernelspec": {
   "display_name": "Python 3",
   "language": "python",
   "name": "python3"
  },
  "language_info": {
   "codemirror_mode": {
    "name": "ipython",
    "version": 3
   },
   "file_extension": ".py",
   "mimetype": "text/x-python",
   "name": "python",
   "nbconvert_exporter": "python",
   "pygments_lexer": "ipython3",
   "version": "3.7.1"
  }
 },
 "nbformat": 4,
 "nbformat_minor": 2
}
